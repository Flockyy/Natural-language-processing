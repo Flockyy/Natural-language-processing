{
 "cells": [
  {
   "cell_type": "markdown",
   "metadata": {},
   "source": [
    "### Search engine using pre-trained transformers\n",
    "\n",
    "* https://neptune.ai/blog/gpt-3-bert-limits-of-deep-learning-language-models\n",
    "* https://neptune.ai/blog/how-to-code-bert-using-pytorch-tutorial"
   ]
  },
  {
   "cell_type": "markdown",
   "metadata": {},
   "source": [
    "Fine tuning BERT"
   ]
  },
  {
   "cell_type": "markdown",
   "metadata": {},
   "source": [
    "<img src=\"Fine-tuning-BERT.webp\"\n",
    "     style=\"float: left; margin-right: 10px;\" />"
   ]
  },
  {
   "cell_type": "code",
   "execution_count": 13,
   "metadata": {},
   "outputs": [
    {
     "data": {
      "text/plain": [
       "False"
      ]
     },
     "execution_count": 13,
     "metadata": {},
     "output_type": "execute_result"
    }
   ],
   "source": [
    "import os\n",
    "import torch\n",
    "torch.cuda.is_available()"
   ]
  },
  {
   "cell_type": "code",
   "execution_count": 10,
   "metadata": {},
   "outputs": [],
   "source": [
    "from bert_serving.server.graph import optimize_graph\n",
    "from bert_serving.server.helper import get_args_parser"
   ]
  },
  {
   "cell_type": "code",
   "execution_count": 11,
   "metadata": {},
   "outputs": [],
   "source": [
    "# input dir\n",
    "MODEL_DIR = 'content/uncased_L-12_H-768_A-12' #@param {type:\"string\"}\n",
    "# output dir\n",
    "GRAPH_DIR = '/content/graph/' #@param {type:\"string\"}\n",
    "# output filename\n",
    "GRAPH_OUT = 'extractor.pbtxt' #@param {type:\"string\"}\n",
    " \n",
    "POOL_STRAT = 'REDUCE_MEAN' #@param ['REDUCE_MEAN', 'REDUCE_MAX', \"NONE\"]\n",
    "POOL_LAYER = '-2' #@param {type:\"string\"}\n",
    "SEQ_LEN = '256' #@param {type:\"string\"}"
   ]
  },
  {
   "cell_type": "code",
   "execution_count": 15,
   "metadata": {},
   "outputs": [],
   "source": [
    "carg = get_args_parser().parse_args(args=['-model_dir', MODEL_DIR,\n",
    "                              '-graph_tmp_dir', GRAPH_DIR,\n",
    "                              '-max_seq_len', str(SEQ_LEN),\n",
    "                              '-pooling_layer', str(POOL_LAYER),\n",
    "                              '-pooling_strategy', POOL_STRAT])"
   ]
  }
 ],
 "metadata": {
  "kernelspec": {
   "display_name": "Python 3.9.12 ('base')",
   "language": "python",
   "name": "python3"
  },
  "language_info": {
   "codemirror_mode": {
    "name": "ipython",
    "version": 3
   },
   "file_extension": ".py",
   "mimetype": "text/x-python",
   "name": "python",
   "nbconvert_exporter": "python",
   "pygments_lexer": "ipython3",
   "version": "3.9.12"
  },
  "orig_nbformat": 4,
  "vscode": {
   "interpreter": {
    "hash": "af8259ad5c1c9c7a69bd6ea085234cf8fd3a6a37a71ca551828b314c4d89b0ad"
   }
  }
 },
 "nbformat": 4,
 "nbformat_minor": 2
}
